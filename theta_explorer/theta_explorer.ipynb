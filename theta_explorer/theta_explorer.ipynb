{
 "cells": [
  {
   "cell_type": "code",
   "execution_count": 1,
   "metadata": {
    "collapsed": true
   },
   "outputs": [],
   "source": [
    "# Imports\n",
    "from mpl_toolkits.mplot3d import Axes3D\n",
    "from qiskit import *\n",
    "import matplotlib as mpl\n",
    "import matplotlib.pyplot as plt\n",
    "import numpy as np\n",
    "from matplotlib.collections import PolyCollection\n",
    "from random import randint"
   ]
  },
  {
   "cell_type": "code",
   "execution_count": 2,
   "outputs": [],
   "source": [
    "# Setup\n",
    "# To open in a separate interactive window\n",
    "%matplotlib tk\n",
    "\n",
    "# Use Aer's qasm_simulator\n",
    "simulator = Aer.get_backend('qasm_simulator')"
   ],
   "metadata": {
    "collapsed": false,
    "pycharm": {
     "name": "#%%\n"
    }
   }
  },
  {
   "cell_type": "code",
   "execution_count": 3,
   "outputs": [
    {
     "data": {
      "text/plain": "<qiskit.circuit.instructionset.InstructionSet at 0x7faf34359dc0>"
     },
     "execution_count": 3,
     "metadata": {},
     "output_type": "execute_result"
    }
   ],
   "source": [
    "###############################################################################\n",
    "# CONFIGURATION\n",
    "###############################################################################\n",
    "quality = 100  # Establish how many theta values to test\n",
    "shots = 100  # Establish the number of shots per theta value\n",
    "\n",
    "# Measurement circuit is always the same, so no need to be inside the loop\n",
    "# Establish the number of qubits and classical bits\n",
    "num_bits = 2\n",
    "meas = QuantumCircuit(num_bits, num_bits)\n",
    "meas.measure(range(num_bits), range(num_bits))\n",
    "###############################################################################"
   ],
   "metadata": {
    "collapsed": false,
    "pycharm": {
     "name": "#%%\n"
    }
   }
  },
  {
   "cell_type": "code",
   "execution_count": 4,
   "outputs": [],
   "source": [
    "# Predefined functions for later use\n",
    "def prepare_full_counts():\n",
    "    \"\"\"\n",
    "    Detects the number of classical bits there will be and prepares the dict full_counts\n",
    "    to receive counts for those values.\n",
    "    :return:\n",
    "    \"\"\"\n",
    "    full_counts = {}\n",
    "    num_classical_bits = len(meas.clbits)\n",
    "    formatting = '{0:0' + str(num_classical_bits) + 'b}'\n",
    "    for val in range(2 ** num_classical_bits):\n",
    "        full_counts[formatting.format(val)] = []\n",
    "    return full_counts\n",
    "\n",
    "def clear_counts(full_counts: dict):\n",
    "    for state in full_counts:\n",
    "        full_counts[state].clear()\n",
    "\n",
    "def collect_counts(circuit: QuantumCircuit):\n",
    "    \"\"\"\n",
    "    Collect the count of each state and put them in full_counts\n",
    "    :param circuit:\n",
    "    :return:\n",
    "    \"\"\"\n",
    "    # Add measurement\n",
    "    measured_circuit = circuit + meas\n",
    "    # Execute the circuit on the qasm simulator\n",
    "    job = execute(measured_circuit, simulator, shots=shots)\n",
    "    # Grab results from the job\n",
    "    result = job.result()\n",
    "    # Returns counts\n",
    "    counts = result.get_counts(measured_circuit)\n",
    "    # Collecting the counts for each state in an array per state\n",
    "    for state in full_counts:\n",
    "        if state in counts:\n",
    "            full_counts[state].append(counts[state])\n",
    "        else:\n",
    "            full_counts[state].append(0)\n",
    "\n",
    "\n",
    "def polygon_under_graph(xlist, ylist):\n",
    "    \"\"\"\n",
    "    Construct the vertex list which defines the polygon filling the space under\n",
    "    the (xlist, ylist) line graph.  Assumes the xs are in ascending order.\n",
    "    \"\"\"\n",
    "    return [(xlist[0], 0.), *zip(xlist, ylist), (xlist[-1], 0.)]\n",
    "\n",
    "\n",
    "def plot_graph(title: str):\n",
    "    # Preparing to plot the data\n",
    "    fig = plt.figure()\n",
    "    ax = fig.gca(projection='3d')\n",
    "    ax.view_init(3, -6)\n",
    "    # Make verts a list such that verts[i] is a list of (x, y) pairs defining\n",
    "    # polygon i.\n",
    "    verts = []\n",
    "\n",
    "    num_classical_bits = len(meas.clbits)\n",
    "\n",
    "    # The ith polygon will appear on the plane x = zs[i]\n",
    "    zs = range(2 ** num_classical_bits)\n",
    "    facecolors = []\n",
    "    for state in full_counts:\n",
    "        xs = full_counts[state]\n",
    "        verts.append(polygon_under_graph(theta, xs))\n",
    "        # Get a face colour for each state\n",
    "        facecolors.append(\"#%06x\" % randint(0, 0xFFFFFF))\n",
    "    poly = PolyCollection(verts, facecolors=facecolors, alpha=.6)\n",
    "    ax.add_collection3d(poly, zs=zs, zdir='x')\n",
    "    ax.set_xlabel('states')\n",
    "    ax.set_ylabel('theta')\n",
    "    ax.set_zlabel('counts')\n",
    "    ax.set_xlim(0, 2 ** num_classical_bits - 1)\n",
    "    ax.set_ylim(0, 2 * np.pi)\n",
    "    ax.set_zlim(0, shots)\n",
    "    # Scale in the axis of the states\n",
    "    ax.get_proj = lambda: np.dot(Axes3D.get_proj(ax), np.diag([num_classical_bits*0.5, 1, 1, 1]))\n",
    "\n",
    "    plt.xticks(zs, [state for state in full_counts], rotation=90)\n",
    "    plt.yticks(np.arange(0, 2 * np.pi, np.pi / 2))\n",
    "    plt.yticks(np.arange(0, 2 * np.pi, np.pi / 2), [r\"$\" + format(r / np.pi, \".2g\") + r\"\\pi$\" for r in plt.yticks()[0]])\n",
    "    plt.title(title)\n",
    "    plt.show()"
   ],
   "metadata": {
    "collapsed": false,
    "pycharm": {
     "name": "#%%\n"
    }
   }
  },
  {
   "cell_type": "code",
   "execution_count": 5,
   "outputs": [],
   "source": [
    "# Store all the counts for all values of theta\n",
    "full_counts = prepare_full_counts()\n",
    "\n",
    "# Set up the theta sequence\n",
    "theta = np.linspace(0., 2 * np.pi, quality)"
   ],
   "metadata": {
    "collapsed": false,
    "pycharm": {
     "name": "#%%\n"
    }
   }
  },
  {
   "cell_type": "code",
   "execution_count": 6,
   "outputs": [],
   "source": [
    "# Circuit example 1\n",
    "# First, clear out all the counts from previous executions, if there were any\n",
    "clear_counts(full_counts)\n",
    "\n",
    "# Obtain counts per theta value\n",
    "for theta_val in theta:\n",
    "    # Circuit with always changing theta_value\n",
    "    circuit = QuantumCircuit(num_bits, num_bits)\n",
    "    circuit.ry(theta_val, 0)\n",
    "    circuit.cx(0, 1)\n",
    "\n",
    "    collect_counts(circuit)\n",
    "\n",
    "plot_graph(\"Example 1\")"
   ],
   "metadata": {
    "collapsed": false,
    "pycharm": {
     "name": "#%%\n"
    }
   }
  },
  {
   "cell_type": "code",
   "execution_count": 7,
   "outputs": [],
   "source": [
    "# Circuit example 2\n",
    "# First, clear out all the counts from previous executions, if there were any\n",
    "clear_counts(full_counts)\n",
    "\n",
    "# Obtain counts per theta value\n",
    "for theta_val in theta:\n",
    "    # Circuit with always changing theta_value\n",
    "    circuit = QuantumCircuit(num_bits, num_bits)\n",
    "    circuit.rx(theta_val, 0)\n",
    "    circuit.ch(0, 1)\n",
    "\n",
    "    collect_counts(circuit)\n",
    "\n",
    "plot_graph(\"Example 2\")"
   ],
   "metadata": {
    "collapsed": false,
    "pycharm": {
     "name": "#%%\n"
    }
   }
  },
  {
   "cell_type": "code",
   "execution_count": 8,
   "outputs": [],
   "source": [
    "# Circuit example 3\n",
    "# First, clear out all the counts from previous executions, if there were any\n",
    "clear_counts(full_counts)\n",
    "\n",
    "# Obtain counts per theta value\n",
    "for theta_val in theta:\n",
    "    # Circuit with always changing theta_value\n",
    "    circuit = QuantumCircuit(num_bits, num_bits)\n",
    "    circuit.rx(theta_val, 0)\n",
    "    circuit.h(1)\n",
    "    circuit.rz(theta_val, 1)\n",
    "    circuit.cx(0, 1)\n",
    "\n",
    "    collect_counts(circuit)\n",
    "\n",
    "plot_graph(\"Example 3\")"
   ],
   "metadata": {
    "collapsed": false,
    "pycharm": {
     "name": "#%%\n"
    }
   }
  },
  {
   "cell_type": "code",
   "execution_count": 9,
   "outputs": [],
   "source": [
    "# Circuit example 4\n",
    "# First, clear out all the counts from previous executions, if there were any\n",
    "clear_counts(full_counts)\n",
    "\n",
    "# Obtain counts per theta value\n",
    "for theta_val in theta:\n",
    "    # Circuit with always changing theta_value\n",
    "    circuit = QuantumCircuit(num_bits, num_bits)\n",
    "    circuit.rx(theta_val, 0)\n",
    "    circuit.ry(theta_val, 1)\n",
    "    circuit.ch(1, 0)\n",
    "    circuit.rz(theta_val, 0)\n",
    "    circuit.ch(0, 1)\n",
    "    circuit.ry(theta_val, 0)\n",
    "    circuit.rz(theta_val, 1)\n",
    "\n",
    "    collect_counts(circuit)\n",
    "\n",
    "plot_graph(\"Example 4\")"
   ],
   "metadata": {
    "collapsed": false,
    "pycharm": {
     "name": "#%%\n"
    }
   }
  }
 ],
 "metadata": {
  "kernelspec": {
   "display_name": "Python 3",
   "language": "python",
   "name": "python3"
  },
  "language_info": {
   "codemirror_mode": {
    "name": "ipython",
    "version": 2
   },
   "file_extension": ".py",
   "mimetype": "text/x-python",
   "name": "python",
   "nbconvert_exporter": "python",
   "pygments_lexer": "ipython2",
   "version": "2.7.6"
  }
 },
 "nbformat": 4,
 "nbformat_minor": 0
}